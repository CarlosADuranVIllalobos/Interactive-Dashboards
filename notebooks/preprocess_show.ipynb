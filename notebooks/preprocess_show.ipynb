{
 "cells": [
  {
   "cell_type": "markdown",
   "id": "3047341f-8d84-4476-9ce4-adf782b4f528",
   "metadata": {},
   "source": [
    "# Interactive Dashboards with Tableau\n",
    "\n",
    "This notebook demonstrates how to create and share interactive data visualizations using Tableau, providing insights into complex datasets. It includes data preprocessing, visualization creation, and dashboard integration.\n",
    "\n",
    "## Dataset\n",
    "\n",
    "The datasets used in this project are:\n",
    "1. **COVID-19 World Vaccination Progress**: Contains information on vaccination progress across various countries.\n",
    "2. **COVID-19 World Vaccination Progress by Manufacturer**: Contains information on vaccination progress by different manufacturers.\n",
    "3. **COVID-19 Worldometer Data**: Contains daily information on COVID-19 cases and deaths across various countries.\n",
    "4. **World Population Data**: Contains information on the total population by country.\n",
    "\n",
    "### Citation of the Datasets\n",
    "\n",
    "- Preda, Gabriel. (2021). COVID-19 World Vaccination Progress. Kaggle. https://www.kaggle.com/datasets/gpreda/covid-world-vaccination-progress.\n",
    "- Preda, Gabriel. (2021). COVID-19 World Vaccination Progress by Manufacturer. Kaggle. https://www.kaggle.com/datasets/gpreda/covid-world-vaccination-progress.\n",
    "- Joseph Assaker. (2021). COVID-19 Global Dataset. Kaggle. https://www.kaggle.com/datasets/josephassaker/covid19-global-dataset.\n",
    "- Banerjee, Sourav. (2021). World Population Dataset. Kaggle. https://www.kaggle.com/datasets/iamsouravbanerjee/world-population-dataset.\n"
   ]
  },
  {
   "cell_type": "markdown",
   "id": "5e4f311f-e236-4206-b799-1ff555cde5bd",
   "metadata": {},
   "source": [
    "## Data Preprocessing"
   ]
  },
  {
   "cell_type": "markdown",
   "id": "dfcd7556-d817-4dde-b5d5-94cef9adeabb",
   "metadata": {},
   "source": [
    "### Step 1: Import Libraries and load dataset"
   ]
  },
  {
   "cell_type": "code",
   "execution_count": 8,
   "id": "40988934-4faa-4d80-b082-917d54ea7a97",
   "metadata": {},
   "outputs": [
    {
     "name": "stdout",
     "output_type": "stream",
     "text": [
      "\n",
      "Vaccinations Columns: Index(['country', 'iso_code', 'date', 'total_vaccinations',\n",
      "       'people_vaccinated', 'people_fully_vaccinated',\n",
      "       'daily_vaccinations_raw', 'daily_vaccinations',\n",
      "       'total_vaccinations_per_hundred', 'people_vaccinated_per_hundred',\n",
      "       'people_fully_vaccinated_per_hundred', 'daily_vaccinations_per_million',\n",
      "       'vaccines', 'source_name', 'source_website'],\n",
      "      dtype='object')\n",
      "\n",
      "Vaccinations by Manufacturer Columns: Index(['location', 'date', 'vaccine', 'total_vaccinations'], dtype='object')\n",
      "\n",
      "Worldometer Columns: Index(['date', 'country', 'cumulative_total_cases', 'daily_new_cases',\n",
      "       'active_cases', 'cumulative_total_deaths', 'daily_new_deaths'],\n",
      "      dtype='object')\n",
      "\n",
      "Population Columns: Index(['Rank', 'CCA3', 'Country/Territory', 'Capital', 'Continent',\n",
      "       '2022 Population', '2020 Population', '2015 Population',\n",
      "       '2010 Population', '2000 Population', '1990 Population',\n",
      "       '1980 Population', '1970 Population', 'Area (km²)', 'Density (per km²)',\n",
      "       'Growth Rate', 'World Population Percentage'],\n",
      "      dtype='object')\n"
     ]
    }
   ],
   "source": [
    "import pandas as pd\n",
    "# Load the datasets\n",
    "vaccinations = pd.read_csv('../data/country_vaccinations.csv')\n",
    "vaccinations_by_manufacturer = pd.read_csv('../data/country_vaccinations_by_manufacturer.csv')\n",
    "worldometer = pd.read_csv('../data/worldometer_coronavirus_daily_data.csv')\n",
    "population = pd.read_csv('../data/world_population.csv')\n",
    "\n",
    "# Display the column names to understand the structure of each dataset\n",
    "print(\"\\nVaccinations Columns:\", vaccinations.columns)\n",
    "print(\"\\nVaccinations by Manufacturer Columns:\", vaccinations_by_manufacturer.columns)\n",
    "print(\"\\nWorldometer Columns:\", worldometer.columns)\n",
    "print(\"\\nPopulation Columns:\", population.columns)"
   ]
  },
  {
   "cell_type": "markdown",
   "id": "95443d2a-e763-4367-a9c7-f6feb1c004a6",
   "metadata": {},
   "source": [
    "### Step 2: Convert Date Columns to Datetime Format"
   ]
  },
  {
   "cell_type": "code",
   "execution_count": 9,
   "id": "1aac7cac-9a22-4300-b10e-e37bab587727",
   "metadata": {},
   "outputs": [],
   "source": [
    "# Ensure date formats are consistent\n",
    "vaccinations['date'] = pd.to_datetime(vaccinations['date'])\n",
    "vaccinations_by_manufacturer['date'] = pd.to_datetime(vaccinations_by_manufacturer['date'])\n",
    "worldometer['date'] = pd.to_datetime(worldometer['date'])\n",
    "\n",
    "# Standardize the country names to uppercase\n",
    "vaccinations['country'] = vaccinations['country'].str.upper()\n",
    "vaccinations_by_manufacturer['location'] = vaccinations_by_manufacturer['location'].str.upper()\n",
    "worldometer['country'] = worldometer['country'].str.upper()\n",
    "population = population.rename(columns={'Country/Territory': 'country', '2022 Population': 'population'})\n",
    "population['country'] = population['country'].str.upper()\n",
    "\n",
    "# Keep only the country and 2022 population columns in the population data\n",
    "population = population[['country', 'population']]\n"
   ]
  },
  {
   "cell_type": "markdown",
   "id": "f4e2d5e0-7644-4d76-b4b4-2a566abf2f90",
   "metadata": {},
   "source": [
    "### Step 3: Merge Datasets"
   ]
  },
  {
   "cell_type": "code",
   "execution_count": 10,
   "id": "ffa24670-2911-45c3-a8bd-ed08c67608a0",
   "metadata": {},
   "outputs": [],
   "source": [
    "# Merge vaccinations and worldometer datasets on country and date\n",
    "merged_data = pd.merge(vaccinations, worldometer, on=['country', 'date'], how='outer')\n",
    "\n",
    "# Merge the result with population data\n",
    "merged_data = pd.merge(merged_data, population, on='country', how='left')\n",
    "\n",
    "# Aggregate the vaccinations_by_manufacturer data by country and sum the total_vaccinations\n",
    "vaccinations_by_manufacturer_agg = vaccinations_by_manufacturer.groupby(['location', 'vaccine']).agg({'total_vaccinations': 'sum'}).reset_index()\n",
    "vaccinations_by_manufacturer_agg = vaccinations_by_manufacturer_agg.rename(columns={'location': 'country'})\n",
    "vaccinations_by_manufacturer_agg['country'] = vaccinations_by_manufacturer_agg['country'].str.upper()\n",
    "\n",
    "# Merge the aggregated manufacturer data with the merged dataset\n",
    "final_data = pd.merge(merged_data, vaccinations_by_manufacturer_agg, on='country', how='outer')"
   ]
  },
  {
   "cell_type": "markdown",
   "id": "588a5818-00f6-42e0-ad30-2093b4114ff6",
   "metadata": {},
   "source": [
    "### Step 4: Clean the Final Dataset"
   ]
  },
  {
   "cell_type": "code",
   "execution_count": 11,
   "id": "9ddbdc15-e3ca-4e15-9f09-c9eca21adbb2",
   "metadata": {},
   "outputs": [
    {
     "name": "stdout",
     "output_type": "stream",
     "text": [
      "\n",
      "Merged dataset Columns: Index(['country', 'iso_code', 'date', 'total_vaccinations_x',\n",
      "       'people_vaccinated', 'people_fully_vaccinated',\n",
      "       'daily_vaccinations_raw', 'daily_vaccinations',\n",
      "       'total_vaccinations_per_hundred', 'people_vaccinated_per_hundred',\n",
      "       'people_fully_vaccinated_per_hundred', 'daily_vaccinations_per_million',\n",
      "       'vaccines', 'source_name', 'source_website', 'cumulative_total_cases',\n",
      "       'daily_new_cases', 'active_cases', 'cumulative_total_deaths',\n",
      "       'daily_new_deaths', 'population', 'vaccine', 'total_vaccinations_y'],\n",
      "      dtype='object')\n"
     ]
    }
   ],
   "source": [
    "# Drop the CCA3 column if it exists\n",
    "if 'CCA3' in final_data.columns:\n",
    "    final_data = final_data.drop(columns=['CCA3'])\n",
    "\n",
    "# Save the final merged dataset\n",
    "#final_data.to_csv('../data/cleaned_covid_combined_data.csv', index=False)\n",
    "\n",
    "# Display the columns of the final merged dataset\n",
    "print(\"\\nMerged dataset Columns:\", final_data.columns)"
   ]
  },
  {
   "cell_type": "markdown",
   "id": "7b659f8d-c29f-4f6f-87e1-97d81e6eca39",
   "metadata": {},
   "source": [
    "## Vizualization\n",
    "The visualizations provide insights into:\n",
    "\n",
    "The geographical distribution of COVID-19 vaccinations.\n",
    "Comparative analysis of vaccination and deaths progress among countries.\n",
    "Comparative analysis of vaccines by manufacturer.\n",
    "The project explores various interactive visualizations, including:\n",
    "\n",
    "World Map: Total vaccinations by country.\n",
    "Time Series Chart: Vaccinations and deaths by country.\n",
    "Pie Chart: Number of vaccines by manufacturers.\n",
    "The visualizations are created using Tableau's powerful data visualization tools.\n"
   ]
  },
  {
   "cell_type": "code",
   "execution_count": 18,
   "id": "caae5868-8f53-4067-a897-6fd82cd3dc04",
   "metadata": {},
   "outputs": [
    {
     "data": {
      "text/html": [
       "\n",
       "        <iframe\n",
       "            width=\"1300\"\n",
       "            height=\"900\"\n",
       "            src=\"https://public.tableau.com/shared/3J6YJQFY9?:display_count=n&:origin=viz_share_link\"\n",
       "            frameborder=\"0\"\n",
       "            allowfullscreen\n",
       "            \n",
       "        ></iframe>\n",
       "        "
      ],
      "text/plain": [
       "<IPython.lib.display.IFrame at 0x298cb62c110>"
      ]
     },
     "execution_count": 18,
     "metadata": {},
     "output_type": "execute_result"
    }
   ],
   "source": [
    "from IPython.display import IFrame\n",
    "\n",
    "# Replace YOUR_DASHBOARD_URL with the actual URL of your Tableau Public dashboard\n",
    "IFrame(src=\"https://public.tableau.com/shared/3J6YJQFY9?:display_count=n&:origin=viz_share_link\", width=1300, height=900)"
   ]
  },
  {
   "cell_type": "markdown",
   "id": "12d7e4a3-2793-4175-8cef-0c0e2f8fb148",
   "metadata": {},
   "source": [
    "## Problems viewing the Framework\n",
    "If you're encountering a connection issue when using a Tableau Public dashboard using an iframe, it might be due to browser or security settings blocking the connection (X-Frame-Options and Content-Security-Policy). \n",
    "\n",
    "You can view the interactive dashboards created with Tableau by visiting the following link:https://public.tableau.com/shared/3J6YJQFY9?:display_count=n&:origin=viz_share_link"
   ]
  }
 ],
 "metadata": {
  "kernelspec": {
   "display_name": "Python 3 (ipykernel)",
   "language": "python",
   "name": "python3"
  },
  "language_info": {
   "codemirror_mode": {
    "name": "ipython",
    "version": 3
   },
   "file_extension": ".py",
   "mimetype": "text/x-python",
   "name": "python",
   "nbconvert_exporter": "python",
   "pygments_lexer": "ipython3",
   "version": "3.11.9"
  }
 },
 "nbformat": 4,
 "nbformat_minor": 5
}
